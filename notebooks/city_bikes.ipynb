{
 "cells": [
  {
   "cell_type": "markdown",
   "metadata": {},
   "source": [
    "# CityBikes"
   ]
  },
  {
   "cell_type": "markdown",
   "metadata": {},
   "source": [
    "Send a request to CityBikes and check the data structure "
   ]
  },
  {
   "cell_type": "code",
   "execution_count": 1,
   "metadata": {},
   "outputs": [
    {
     "name": "stdout",
     "output_type": "stream",
     "text": [
      "         name                        city country  \\\n",
      "0    Velobike                      Moscow      RU   \n",
      "1  Bicincittà                       Siena      IT   \n",
      "2  Cyclopolis                    Maroussi      GR   \n",
      "3  Cyclopolis                     Nafplio      GR   \n",
      "4  Bicincittà  Parco dei Colli di Bergamo      IT   \n",
      "\n",
      "                                      id  \n",
      "0                        velobike-moscow  \n",
      "1                       bicincitta-siena  \n",
      "2                    cyclopolis-maroussi  \n",
      "3                     cyclopolis-nafplio  \n",
      "4  bicincitta-parco-dei-colli-di-bergamo  \n"
     ]
    }
   ],
   "source": [
    "### 1 -Check structure file JSON\n",
    "\n",
    "import requests\n",
    "import pandas as pd\n",
    "\n",
    "# Get the list of networks (cities)\n",
    "networks_url = \"https://api.citybik.es/v2/networks\"\n",
    "response = requests.get(networks_url)\n",
    "networks_data = response.json()\n",
    "\n",
    "# Extract relevant data\n",
    "networks_list = [\n",
    "    {\n",
    "        'name': network['name'],\n",
    "        'city': network['location']['city'],\n",
    "        'country': network['location']['country'],\n",
    "        'id': network['id']\n",
    "    }\n",
    "    for network in networks_data['networks']\n",
    "]\n",
    "\n",
    "# Create a DataFrame\n",
    "networks_df = pd.DataFrame(networks_list)\n",
    "print(networks_df.head())"
   ]
  },
  {
   "cell_type": "markdown",
   "metadata": {},
   "source": [
    "Parse through the response to get the details you want for the country and select bike stations in that city (latitude, longitude, number of bikes). "
   ]
  },
  {
   "cell_type": "code",
   "execution_count": 2,
   "metadata": {},
   "outputs": [
    {
     "name": "stdout",
     "output_type": "stream",
     "text": [
      "Name: Bixi, City: Montréal, QC, Network ID: bixi-montreal\n",
      "Name: Bike Share Toronto, City: Toronto, ON, Network ID: bixi-toronto\n",
      "Name: SoBi, City: Hamilton, ON, Network ID: sobi-hamilton\n",
      "Name: Mobi, City: Vancouver, Network ID: mobibikes\n",
      "Name: àVélo, City: Québec, Network ID: avelo-quebec\n",
      "Name: Accès Vélo, City: Saguenay, Network ID: acces-velo-saguenay\n"
     ]
    }
   ],
   "source": [
    "### 2 -Check place in Canada\n",
    "\n",
    "import requests\n",
    "\n",
    "# (2) URL to get the list of all networks\n",
    "networks_url = \"https://api.citybik.es/v2/networks\"\n",
    "response = requests.get(networks_url)\n",
    "networks_data = response.json()\n",
    "\n",
    "# Filter networks to find those in Canada\n",
    "canadian_networks = [\n",
    "    network for network in networks_data['networks']\n",
    "    if network['location']['country'] == 'CA'\n",
    "]\n",
    "\n",
    "# Check if any Canadian networks were found and print results\n",
    "if canadian_networks:\n",
    "    for network in canadian_networks:\n",
    "        print(f\"Name: {network['name']}, City: {network['location']['city']}, Network ID: {network['id']}\")\n",
    "else:\n",
    "    print(\"No bike-sharing networks found in Canada.\")"
   ]
  },
  {
   "cell_type": "markdown",
   "metadata": {},
   "source": [
    "Parse through the response to get the details you want for the bike stations in that city (latitude, longitude, number of bikes) - \"\"bixi-toronto\". Put your parsed results into a DataFrame."
   ]
  },
  {
   "cell_type": "code",
   "execution_count": 3,
   "metadata": {},
   "outputs": [
    {
     "name": "stdout",
     "output_type": "stream",
     "text": [
      "                          name   latitude  longitude  free_bikes\n",
      "0    Queen St E / Woodward Ave  43.665269 -79.319796          15\n",
      "1  Primrose Ave / Davenport Rd  43.671420 -79.445947           2\n",
      "2      Queen St E / Rhodes Ave  43.666224 -79.317693          10\n",
      "3         Bond St / Queen St E  43.653236 -79.376716           1\n",
      "4     Church St / Alexander St  43.663722 -79.380288           9\n"
     ]
    }
   ],
   "source": [
    "import requests\n",
    "import pandas as pd\n",
    "\n",
    "# Step 1: Get the list of networks (cities)\n",
    "networks_url = \"https://api.citybik.es/v2/networks\"\n",
    "response = requests.get(networks_url)\n",
    "networks_data = response.json()\n",
    "\n",
    "# Step 2: Choose a network (Toronto)\n",
    "network_id = \"bixi-toronto\"\n",
    "\n",
    "# Step 3: Get bike stations for the chosen network\n",
    "stations_url = f\"https://api.citybik.es/v2/networks/{network_id}\"\n",
    "response = requests.get(stations_url)\n",
    "stations_data = response.json()\n",
    "\n",
    "# Step 4: Extract relevant data and parse into a DataFrame\n",
    "stations_list = stations_data['network']['stations']\n",
    "stations_info = [\n",
    "    {\n",
    "        'name': station['name'],\n",
    "        'latitude': station['latitude'],\n",
    "        'longitude': station['longitude'],\n",
    "        'free_bikes': station['free_bikes']\n",
    "    }\n",
    "    for station in stations_list\n",
    "]\n",
    "\n",
    "stations_df = pd.DataFrame(stations_info)\n",
    "print(stations_df.head())"
   ]
  },
  {
   "cell_type": "code",
   "execution_count": null,
   "metadata": {},
   "outputs": [],
   "source": []
  }
 ],
 "metadata": {
  "kernelspec": {
   "display_name": "THE_ONE",
   "language": "python",
   "name": "the_one"
  },
  "language_info": {
   "codemirror_mode": {
    "name": "ipython",
    "version": 3
   },
   "file_extension": ".py",
   "mimetype": "text/x-python",
   "name": "python",
   "nbconvert_exporter": "python",
   "pygments_lexer": "ipython3",
   "version": "3.11.7"
  }
 },
 "nbformat": 4,
 "nbformat_minor": 4
}
